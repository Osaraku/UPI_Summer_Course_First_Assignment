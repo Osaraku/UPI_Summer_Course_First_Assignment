{
 "cells": [
  {
   "cell_type": "markdown",
   "id": "203dddee-a0b4-4379-bf72-db77802e8201",
   "metadata": {},
   "source": [
    "# Group 15"
   ]
  },
  {
   "cell_type": "markdown",
   "id": "ba76246c-c16b-4837-b2c1-bcafbb161ed1",
   "metadata": {},
   "source": [
    "# First Case Study : Miles Per Gallon"
   ]
  },
  {
   "cell_type": "markdown",
   "id": "dc78b5e3-e5da-4e8b-b0b5-db015111e34f",
   "metadata": {},
   "source": [
    "## Pseudocode:\n",
    "\n",
    "```\n",
    "Initialize totalMiles to 0\n",
    "Initialize totalGallons to 0\n",
    "Initialize tankNumber to 1\n",
    "\n",
    "While True:\n",
    "    Display \"Enter the gallons used for tank \" + tankNumber + \" (or -1 to exit) :\"\n",
    "    Input gallons\n",
    "    If gallons is -1:\n",
    "        Exit loop\n",
    "    Display \"Enter the miles driven for tank \" + tankNumber + \": \"\n",
    "    Input miles\n",
    "    If miles is -1:\n",
    "        Exit loop\n",
    "    Calculate milesPerGallon as miles divided by gallons\n",
    "    Display \"The miles per gallon for tank \" + tankNumber + \" is \" + milesPerGallon\n",
    "    Increment totalMiles by miles\n",
    "    Increment totalGallons by gallons\n",
    "    Increment tankNumber by 1\n",
    "\n",
    "If tankNumber is greater than 1:\n",
    "    Calculate combinedMilesPerGallon as totalMiles divided by totalGallons\n",
    "    Display \"The combined miles per gallon for all tanks is \" + combinedMilesPerGallon\n",
    "Else:\n",
    "    Display \"No data entered.\"\n",
    "```\n"
   ]
  },
  {
   "cell_type": "markdown",
   "id": "329232fc-2682-4f1c-b964-a19d80111408",
   "metadata": {},
   "source": [
    "## Algorithm:\n",
    "\n",
    "```\n",
    "Initialize totalMiles to 0\n",
    "Initialize totalGallons to 0\n",
    "Initialize tankNumber to 1\n",
    "While True:\n",
    "Display \"Enter the gallons used for tank \" + tankNumber + \" (or -1 to exit) :\"\n",
    "Input gallons\n",
    "If gallons is -1, exit loop\n",
    "Display \"Enter the miles driven for tank \" + tankNumber + \": \"\n",
    "Input miles\n",
    "If miles is -1, exit loop\n",
    "Calculate milesPerGallon as miles divided by gallons\n",
    "Display \"The miles per gallon for tank \" + tankNumber + \" is \" + milesPerGallon\n",
    "Increment totalMiles by miles\n",
    "Increment totalGallons by gallons\n",
    "Increment tankNumber by 1\n",
    "If tankNumber is greater than 1:\n",
    "Calculate combinedMilesPerGallon as totalMiles divided by totalGallons\n",
    "Display \"The combined miles per gallon for all tanks is \" + combinedMilesPerGallon\n",
    "Else:\n",
    "Display \"No data entered.\"\n",
    "```"
   ]
  },
  {
   "cell_type": "markdown",
   "id": "cf5c62ff-b2dd-4d26-b7e0-47f1c8740be3",
   "metadata": {},
   "source": [
    "## Python Code"
   ]
  },
  {
   "cell_type": "code",
   "execution_count": 1,
   "id": "36f0e19a-a1ad-44b6-b02d-617d3313357b",
   "metadata": {},
   "outputs": [
    {
     "name": "stdin",
     "output_type": "stream",
     "text": [
      "Enter the gallons used for tank 1 (or -1 to exit) :  12.8\n",
      "Enter the miles driven for tank 1:  287\n"
     ]
    },
    {
     "name": "stdout",
     "output_type": "stream",
     "text": [
      "The miles per gallon for tank 1 is 22.421875\n"
     ]
    },
    {
     "name": "stdin",
     "output_type": "stream",
     "text": [
      "Enter the gallons used for tank 2 (or -1 to exit) :  10.3\n",
      "Enter the miles driven for tank 2:  200\n"
     ]
    },
    {
     "name": "stdout",
     "output_type": "stream",
     "text": [
      "The miles per gallon for tank 2 is 19.41747572815534\n"
     ]
    },
    {
     "name": "stdin",
     "output_type": "stream",
     "text": [
      "Enter the gallons used for tank 3 (or -1 to exit) :  5\n",
      "Enter the miles driven for tank 3:  120\n"
     ]
    },
    {
     "name": "stdout",
     "output_type": "stream",
     "text": [
      "The miles per gallon for tank 3 is 24.0\n"
     ]
    },
    {
     "name": "stdin",
     "output_type": "stream",
     "text": [
      "Enter the gallons used for tank 4 (or -1 to exit) :  -1\n"
     ]
    },
    {
     "name": "stdout",
     "output_type": "stream",
     "text": [
      "The combined miles per gallon for all tanks is 21.601423487544483\n"
     ]
    }
   ],
   "source": [
    "totalMiles = 0\n",
    "totalGallons = 0\n",
    "tankNumber = 1\n",
    "\n",
    "while True:\n",
    "    try:\n",
    "        gallons = float(input(\"Enter the gallons used for tank \" + str(tankNumber) + \" (or -1 to exit) : \"))\n",
    "        if gallons == -1:\n",
    "            break\n",
    "        miles = float(input(\"Enter the miles driven for tank \" + str(tankNumber) + \": \"))\n",
    "        if miles == -1:\n",
    "            break\n",
    "        milesPerGallon = miles / gallons\n",
    "        print(\"The miles per gallon for tank \" + str(tankNumber) + \" is \" + str(milesPerGallon))\n",
    "        totalMiles += miles\n",
    "        totalGallons += gallons\n",
    "        tankNumber += 1\n",
    "    except ValueError:\n",
    "        print(\"Invalid input, please enter a number.\")\n",
    "\n",
    "if tankNumber > 1:\n",
    "    combinedMilesPerGallon = totalMiles / totalGallons\n",
    "    print(\"The combined miles per gallon for all tanks is \" + str(combinedMilesPerGallon))\n",
    "else:\n",
    "    print(\"No data entered.\")\n"
   ]
  },
  {
   "cell_type": "markdown",
   "id": "7ff3ac98-f052-481e-80a3-7a68a7a73bd3",
   "metadata": {},
   "source": [
    "# Second Case Study : A Game of Chance - Crap\n",
    "\n",
    "## Pseudocode\n",
    "\n",
    "\n",
    "```\n",
    "START\n",
    "    DEFINE function roll_dice()\n",
    "        GENERATE random integer between 1 and 6 for die1\n",
    "        GENERATE random integer between 1 and 6 for die2\n",
    "        RETURN die1, die2\n",
    "    END FUNCTION\n",
    "\n",
    "    DEFINE function craps()\n",
    "        CALL roll_dice() to get the values of the two dice\n",
    "        CALCULATE the sum of the dice\n",
    "        PRINT the roll results\n",
    "\n",
    "        IF the sum is 7 or 11\n",
    "            PRINT \"Player wins!\"\n",
    "        ENDIF\n",
    "        IF the sum is 2, 3, or 12\n",
    "            PRINT \"Player loses!\"\n",
    "        ENDIF\n",
    "        IF the sum is not 7, 11, 2, 3, or 12\n",
    "            SET the point to the sum of the dice\n",
    "            PRINT \"Point is [point]\"\n",
    "\n",
    "            SET end_game to False\n",
    "            WHILE end_game is False\n",
    "                CALL roll_dice() to get the new dice values\n",
    "                CALCULATE the new sum of the dice\n",
    "                PRINT the new roll results\n",
    "\n",
    "                IF the sum matches the point\n",
    "                    PRINT \"Player wins!\"\n",
    "                    SET end_game to True\n",
    "                ENDIF\n",
    "                IF the sum is 7\n",
    "                    PRINT \"Player loses!\"\n",
    "                    SET end_game to True\n",
    "                ENDIF\n",
    "            ENDWHILE\n",
    "        ENDIF\n",
    "    END FUNCTION\n",
    "\n",
    "    RUN the craps() function\n",
    "END\n",
    "```\n",
    "\n"
   ]
  },
  {
   "cell_type": "markdown",
   "id": "4aa7c426-71ce-4a54-886a-d5dd0aed791b",
   "metadata": {},
   "source": [
    "## Python Code"
   ]
  },
  {
   "cell_type": "code",
   "execution_count": 17,
   "id": "2ca52fb1-3b1d-428b-b256-3c36dea2f5cb",
   "metadata": {},
   "outputs": [
    {
     "name": "stdout",
     "output_type": "stream",
     "text": [
      "First Roll:\n",
      "Player rolled 4 + 5 = 9\n",
      "Point is 9\n",
      "\n",
      "Next Roll:\n",
      "Player rolled 6 + 2 = 8\n",
      "Player rolled 6 + 2 = 8\n",
      "Player rolled 1 + 5 = 6\n",
      "Player rolled 5 + 5 = 10\n",
      "Player rolled 4 + 3 = 7\n",
      "Player loses!\n"
     ]
    }
   ],
   "source": [
    "# Import library\n",
    "import random\n",
    "\n",
    "# This function rolls two six-sided dice and returns the individual dice values as a tuple.\n",
    "# It uses the random.randint() function to generate a random integer between 1 and 6 for each die.\n",
    "def roll_dice():\n",
    "    # Roll two six-sided dice\n",
    "    die1 = random.randint(1, 6)\n",
    "    die2 = random.randint(1, 6)\n",
    "    return die1, die2\n",
    "\n",
    "# This function implements the classic casino game of Craps.\n",
    "def craps():\n",
    "    # Starts by calling the roll_dice() function to get the values of the two dice.\n",
    "    die1, die2 = roll_dice()  # Roll the dice\n",
    "    sum_dice = die1 + die2  # Calculate the sum of the dice\n",
    "    print(f\"First Roll:\")\n",
    "    print(f\"Player rolled {die1} + {die2} = {sum_dice}\")\n",
    "\n",
    "    # Check the result of the first roll\n",
    "    # If the sum is 7 or 11, the player wins on the first roll.\n",
    "    if sum_dice in (7, 11):\n",
    "        print(\"Player wins!\")\n",
    "    # If the sum is 2, 3, or 12, the player loses on the first roll (craps).\n",
    "    elif sum_dice in (2, 3, 12):\n",
    "        print(\"Player loses!\")\n",
    "    # Otherwise, the sum becomes the \"point\" that the player must roll again to win.\n",
    "    else:\n",
    "        point = sum_dice  # Set point for subsequent rolls\n",
    "        print(f\"Point is {point}\")\n",
    "        print(f\"\\nNext Roll:\")\n",
    "\n",
    "        # If the player didn't win or lose on the first roll, they enter a loop to keep rolling the dice.\n",
    "        end_game = False # Variable for checking whether the game is finished or not\n",
    "        while end_game == False:\n",
    "            die1, die2 = roll_dice()  # Roll the dice again\n",
    "            sum_dice = die1 + die2  # Calculate the new sum\n",
    "            print(f\"Player rolled {die1} + {die2} = {sum_dice}\")\n",
    "\n",
    "            # Check the result of the subsequent rolls:\n",
    "            # - If the sum matches the point, the player wins.\n",
    "            # - If the sum is 7, the player loses.\n",
    "            # - Otherwise, the player keeps rolling.\n",
    "            if sum_dice == point:\n",
    "                print(\"Player wins!\")  # Win if the point is made\n",
    "                end_game = True\n",
    "            elif sum_dice == 7:\n",
    "                print(\"Player loses!\")  # Lose if a 7 is rolled before making the point\n",
    "                end_game = True\n",
    "\n",
    "# Run the game\n",
    "craps()"
   ]
  },
  {
   "cell_type": "markdown",
   "id": "25ec5513-ead9-44e1-b751-6afb0955b918",
   "metadata": {},
   "source": [
    "# Third Case Study : COVID 19 Infection Statistic"
   ]
  },
  {
   "cell_type": "markdown",
   "id": "1de00bbf-81fa-4cf7-9509-904e1097453d",
   "metadata": {},
   "source": [
    "## Pseudocode\n",
    "\n",
    "```\n",
    "Import statistics module\n",
    "\n",
    "Create a list 'infected_people' contains data on the number of patients during the first 20 days of the COVID-19 pandemic\n",
    "\n",
    "Use the min function from statistics module on infected_people to calculate the minimum\n",
    "Use the max function from statistics module on infected_people to calculate the maximum\n",
    "Determine the range by subtracting the minimum and maximum\n",
    "Use the mean function from statistics module on infected_people to calculate the average\n",
    "Use the median function from statistics module on infected_people to calculate the median\n",
    "Use the max variance from statistics module on infected_people to calculate the variance\n",
    "Use the max stdev from statistics module on infected_people to calculate the standard deviation\n",
    "\n",
    "Display \"Minimum infection rate: \" followed by minimum\n",
    "Display \"Maximum infection rate: \" followed by maximum\n",
    "Display \"Range of infection rates: \" followed by range\n",
    "Display \"Mean infection rate: \" followed by mean\n",
    "Display \"Median infection rate: \" followed by median\n",
    "Display \"Variance of infection rates: \" followed by variance\n",
    "Display \"Standard deviation of infection rates: \" followed by standard deviation\n",
    "```"
   ]
  },
  {
   "cell_type": "markdown",
   "id": "89c72db7-6bff-43e5-8bfe-fac4a7a463fd",
   "metadata": {},
   "source": [
    "## Python Code"
   ]
  },
  {
   "cell_type": "code",
   "execution_count": null,
   "id": "9d1c283f-ec49-40bd-ac2a-91a1de1e6e67",
   "metadata": {},
   "outputs": [],
   "source": [
    "# importing statistics module\n",
    "import statistics\n",
    "\n",
    "# inserting the data in a list data type\n",
    "infected_people = [174, 335, 278, 214, 422, 513, 737, 672, 489, 412, 1301, 1105, 1123, 1376, 1502, 894, 665, 1704, 1656, 1342]\n",
    "\n",
    "# Calculating the requested statistics with the built-in functions\n",
    "minimum = min(infected_people)\n",
    "maximum = max(infected_people)\n",
    "range = maximum - minimum\n",
    "mean = statistics.mean(infected_people)\n",
    "median = statistics.median(infected_people)\n",
    "variance = statistics.variance(infected_people)\n",
    "std_dev = statistics.stdev(infected_people)\n",
    "\n",
    "# Display the results\n",
    "print(f\"Minimum infection rate: {minimum}\")\n",
    "print(f\"Maximum infection rate: {maximum}\")\n",
    "print(f\"Range of infection rates: {range}\")\n",
    "print(f\"Mean infection rate: {mean}\")\n",
    "print(f\"Median infection rate: {median}\")\n",
    "print(f\"Variance of infection rates: {variance}\")\n",
    "print(f\"Standard deviation of infection rates: {std_dev}\")\n"
   ]
  }
 ],
 "metadata": {
  "kernelspec": {
   "display_name": "Python 3 (ipykernel)",
   "language": "python",
   "name": "python3"
  },
  "language_info": {
   "codemirror_mode": {
    "name": "ipython",
    "version": 3
   },
   "file_extension": ".py",
   "mimetype": "text/x-python",
   "name": "python",
   "nbconvert_exporter": "python",
   "pygments_lexer": "ipython3",
   "version": "3.11.7"
  }
 },
 "nbformat": 4,
 "nbformat_minor": 5
}
